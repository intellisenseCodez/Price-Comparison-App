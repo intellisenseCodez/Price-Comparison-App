{
 "cells": [
  {
   "cell_type": "markdown",
   "id": "c91768eb-2e89-4637-b590-c51c6c4cfa5f",
   "metadata": {},
   "source": [
    "# Web Scraping using JUMIA SITE"
   ]
  },
  {
   "cell_type": "markdown",
   "id": "7c1c15c3-4c73-4265-9799-0e61a083d895",
   "metadata": {},
   "source": [
    "## Install Selenium"
   ]
  },
  {
   "cell_type": "code",
   "execution_count": 3,
   "id": "8063a4b2-0020-4928-a4e3-34acd3fde00b",
   "metadata": {},
   "outputs": [
    {
     "name": "stdout",
     "output_type": "stream",
     "text": [
      "Requirement already satisfied: selenium in /opt/anaconda3/lib/python3.11/site-packages (4.22.0)\n",
      "Requirement already satisfied: urllib3<3,>=1.26 in /opt/anaconda3/lib/python3.11/site-packages (from urllib3[socks]<3,>=1.26->selenium) (2.0.7)\n",
      "Requirement already satisfied: trio~=0.17 in /opt/anaconda3/lib/python3.11/site-packages (from selenium) (0.25.1)\n",
      "Requirement already satisfied: trio-websocket~=0.9 in /opt/anaconda3/lib/python3.11/site-packages (from selenium) (0.11.1)\n",
      "Requirement already satisfied: certifi>=2021.10.8 in /opt/anaconda3/lib/python3.11/site-packages (from selenium) (2024.6.2)\n",
      "Requirement already satisfied: typing_extensions>=4.9.0 in /opt/anaconda3/lib/python3.11/site-packages (from selenium) (4.9.0)\n",
      "Requirement already satisfied: websocket-client>=1.8.0 in /opt/anaconda3/lib/python3.11/site-packages (from selenium) (1.8.0)\n",
      "Requirement already satisfied: attrs>=23.2.0 in /opt/anaconda3/lib/python3.11/site-packages (from trio~=0.17->selenium) (23.2.0)\n",
      "Requirement already satisfied: sortedcontainers in /opt/anaconda3/lib/python3.11/site-packages (from trio~=0.17->selenium) (2.4.0)\n",
      "Requirement already satisfied: idna in /opt/anaconda3/lib/python3.11/site-packages (from trio~=0.17->selenium) (3.4)\n",
      "Requirement already satisfied: outcome in /opt/anaconda3/lib/python3.11/site-packages (from trio~=0.17->selenium) (1.3.0.post0)\n",
      "Requirement already satisfied: sniffio>=1.3.0 in /opt/anaconda3/lib/python3.11/site-packages (from trio~=0.17->selenium) (1.3.0)\n",
      "Requirement already satisfied: wsproto>=0.14 in /opt/anaconda3/lib/python3.11/site-packages (from trio-websocket~=0.9->selenium) (1.2.0)\n",
      "Requirement already satisfied: pysocks!=1.5.7,<2.0,>=1.5.6 in /opt/anaconda3/lib/python3.11/site-packages (from urllib3[socks]<3,>=1.26->selenium) (1.7.1)\n",
      "Requirement already satisfied: h11<1,>=0.9.0 in /opt/anaconda3/lib/python3.11/site-packages (from wsproto>=0.14->trio-websocket~=0.9->selenium) (0.14.0)\n"
     ]
    }
   ],
   "source": [
    "!pip install selenium"
   ]
  },
  {
   "cell_type": "markdown",
   "id": "66b53088-d5e9-40b1-a353-e4bc377c7d90",
   "metadata": {},
   "source": [
    "## Import Libraries"
   ]
  },
  {
   "cell_type": "code",
   "execution_count": 5,
   "id": "a03dd176-8cd0-4ce0-92d0-94544081d329",
   "metadata": {},
   "outputs": [],
   "source": [
    "import requests  # make a request to a url\n",
    "from bs4 import BeautifulSoup  # parse the requests as html\n",
    "import pandas as pd  # data manipulation\n",
    "from selenium import webdriver\n",
    "from time import sleep\n",
    "import re"
   ]
  },
  {
   "cell_type": "markdown",
   "id": "644dfa6d-33b9-43da-ab8f-8157ffe453cd",
   "metadata": {},
   "source": [
    "## Scrape Data"
   ]
  },
  {
   "cell_type": "code",
   "execution_count": 18,
   "id": "475b9eff-7702-4e60-ace6-c098dec1d890",
   "metadata": {},
   "outputs": [],
   "source": [
    "# product data dictionary\n",
    "product_data = {\n",
    "    \"Product Name\": [],\n",
    "    \"Current Price\": [],\n",
    "    \"Old Price\": [],\n",
    "    \"Discount\": [],\n",
    "    \"Rating\": [],\n",
    "    \"URL\": [],\n",
    "    \"Photo\": [],\n",
    "    \"Vendor\": []\n",
    "}\n",
    "\n",
    "\n",
    "chrome_options = webdriver.ChromeOptions()\n",
    "def visit_site(url):\n",
    "    \n",
    "    driver = webdriver.Chrome()\n",
    "    driver.get(url)  # visit url\n",
    "    sleep(20)\n",
    "    \n",
    "    html = driver.page_source\n",
    "    page_soup = BeautifulSoup(html, \"html.parser\")\n",
    "    \n",
    "    product_cards = page_soup.findAll('li',{'class':'bbe45_3oExY _22339_3gQb9'}) # product container\n",
    "\n",
    "    \n",
    "    for card in product_cards:\n",
    "        product_name = card.find('h3') #\n",
    "        current_price = card.find(\"span\", class_=\"d7c0f_sJAqi\") \n",
    "        old_price = card.find(\"span\", class_=\"f6eb3_1MyTu\") \n",
    "        discount = card.find(\"span\", class_=\"false _6c244_q2qap _6977e_X5mZi\")\n",
    "        rating = card.find(\"span\", class_=\"eea9b_1Ma8-\")\n",
    "        url = card.find(\"a\").get(\"href\")\n",
    "        photo = card.find('img').get(\"src\")\n",
    "\n",
    "        # ecommerce Site\n",
    "        product_data[\"Vendor\"] = \"Konga Site\"\n",
    "        \n",
    "        if product_name != None:\n",
    "            product_data[\"Product Name\"].append(product_name.text)\n",
    "        else:\n",
    "            product_data[\"Product Name\"].append(\"\")\n",
    "\n",
    "\n",
    "        if current_price != None:\n",
    "            product_data[\"Current Price\"].append(current_price.text)\n",
    "        else:\n",
    "            product_data[\"Current Price\"].append(\"\")\n",
    "\n",
    "\n",
    "        if old_price != None:\n",
    "            product_data[\"Old Price\"].append(old_price.text)\n",
    "        else:\n",
    "            product_data[\"Old Price\"].append(\"\")\n",
    "\n",
    "\n",
    "        if rating != None:\n",
    "            product_data[\"Rating\"].append(rating.text)\n",
    "        else:\n",
    "            product_data[\"Rating\"].append(\"\")\n",
    "            \n",
    "        if discount != None:\n",
    "            product_data[\"Discount\"].append(discount.text)\n",
    "        else:\n",
    "            product_data[\"Discount\"].append(\"\")\n",
    "\n",
    "        if url != None:\n",
    "            product_data[\"URL\"].append(f\"https://www.konga.com{url}\")\n",
    "        else:\n",
    "            product_data[\"URL\"].append(\"\")\n",
    "\n",
    "\n",
    "        if photo != None:\n",
    "            product_data[\"Photo\"].append(photo)\n",
    "        else:\n",
    "            product_data[\"Photo\"].append(\"\")\n",
    "            \n",
    "           \n",
    "    # close chrome driver \n",
    "    driver.close()"
   ]
  },
  {
   "cell_type": "markdown",
   "id": "11b71225-bf2a-424f-bcfe-7dc336fc4881",
   "metadata": {},
   "source": [
    "## Visit Pages"
   ]
  },
  {
   "cell_type": "code",
   "execution_count": 20,
   "id": "3d033fd3-d884-489c-89c6-a72b8939b691",
   "metadata": {},
   "outputs": [
    {
     "name": "stdout",
     "output_type": "stream",
     "text": [
      "Collecting data from https://www.konga.com/category/laptops-5230?page=1 ...\n",
      "Done Collecting Data from https://www.konga.com/category/laptops-5230?page=1\n",
      "Collecting data from https://www.konga.com/category/laptops-5230?page=2 ...\n",
      "Done Collecting Data from https://www.konga.com/category/laptops-5230?page=2\n",
      "Collecting data from https://www.konga.com/category/laptops-5230?page=3 ...\n",
      "Done Collecting Data from https://www.konga.com/category/laptops-5230?page=3\n",
      "Collecting data from https://www.konga.com/category/laptops-5230?page=4 ...\n",
      "Done Collecting Data from https://www.konga.com/category/laptops-5230?page=4\n",
      "Collecting data from https://www.konga.com/category/laptops-5230?page=5 ...\n",
      "Done Collecting Data from https://www.konga.com/category/laptops-5230?page=5\n",
      "Collecting data from https://www.konga.com/category/laptops-5230?page=6 ...\n",
      "Done Collecting Data from https://www.konga.com/category/laptops-5230?page=6\n",
      "Collecting data from https://www.konga.com/category/laptops-5230?page=7 ...\n",
      "Done Collecting Data from https://www.konga.com/category/laptops-5230?page=7\n",
      "Collecting data from https://www.konga.com/category/laptops-5230?page=8 ...\n",
      "Done Collecting Data from https://www.konga.com/category/laptops-5230?page=8\n",
      "Collecting data from https://www.konga.com/category/laptops-5230?page=9 ...\n",
      "Done Collecting Data from https://www.konga.com/category/laptops-5230?page=9\n",
      "Collecting data from https://www.konga.com/category/laptops-5230?page=10 ...\n",
      "Done Collecting Data from https://www.konga.com/category/laptops-5230?page=10\n",
      "Collecting data from https://www.konga.com/category/laptops-5230?page=11 ...\n",
      "Done Collecting Data from https://www.konga.com/category/laptops-5230?page=11\n",
      "Collecting data from https://www.konga.com/category/laptops-5230?page=12 ...\n",
      "Done Collecting Data from https://www.konga.com/category/laptops-5230?page=12\n",
      "Collecting data from https://www.konga.com/category/laptops-5230?page=13 ...\n",
      "Done Collecting Data from https://www.konga.com/category/laptops-5230?page=13\n",
      "Collecting data from https://www.konga.com/category/laptops-5230?page=14 ...\n",
      "Done Collecting Data from https://www.konga.com/category/laptops-5230?page=14\n",
      "Collecting data from https://www.konga.com/category/laptops-5230?page=15 ...\n",
      "Done Collecting Data from https://www.konga.com/category/laptops-5230?page=15\n",
      "Collecting data from https://www.konga.com/category/laptops-5230?page=16 ...\n",
      "Done Collecting Data from https://www.konga.com/category/laptops-5230?page=16\n",
      "Collecting data from https://www.konga.com/category/laptops-5230?page=17 ...\n",
      "Done Collecting Data from https://www.konga.com/category/laptops-5230?page=17\n",
      "Collecting data from https://www.konga.com/category/laptops-5230?page=18 ...\n",
      "Done Collecting Data from https://www.konga.com/category/laptops-5230?page=18\n",
      "Collecting data from https://www.konga.com/category/laptops-5230?page=19 ...\n",
      "Done Collecting Data from https://www.konga.com/category/laptops-5230?page=19\n",
      "Collecting data from https://www.konga.com/category/laptops-5230?page=20 ...\n",
      "Done Collecting Data from https://www.konga.com/category/laptops-5230?page=20\n",
      "Collecting data from https://www.konga.com/category/laptops-5230?page=21 ...\n",
      "Done Collecting Data from https://www.konga.com/category/laptops-5230?page=21\n",
      "Collecting data from https://www.konga.com/category/laptops-5230?page=22 ...\n",
      "Done Collecting Data from https://www.konga.com/category/laptops-5230?page=22\n",
      "Collecting data from https://www.konga.com/category/laptops-5230?page=23 ...\n",
      "Done Collecting Data from https://www.konga.com/category/laptops-5230?page=23\n",
      "Collecting data from https://www.konga.com/category/laptops-5230?page=24 ...\n",
      "Done Collecting Data from https://www.konga.com/category/laptops-5230?page=24\n",
      "Collecting data from https://www.konga.com/category/laptops-5230?page=25 ...\n",
      "Done Collecting Data from https://www.konga.com/category/laptops-5230?page=25\n"
     ]
    }
   ],
   "source": [
    "BASE_URL = 'https://www.konga.com/category/laptops-5230?'\n",
    "\n",
    "\n",
    "for page_num in range(1,26):\n",
    "    page_url = f\"{BASE_URL}page={page_num}\"\n",
    "    print(f\"Collecting data from {page_url} ...\")\n",
    "    visit_site(page_url)\n",
    "    print('Done Collecting Data from',page_url)\n",
    "    "
   ]
  },
  {
   "cell_type": "markdown",
   "id": "a5db7625-581f-4840-b856-45713776e3d4",
   "metadata": {},
   "source": [
    "## Create DataFrame"
   ]
  },
  {
   "cell_type": "code",
   "execution_count": 22,
   "id": "b6b2fa14-b695-4b71-bec9-f9dc0623759c",
   "metadata": {},
   "outputs": [
    {
     "data": {
      "text/html": [
       "<div>\n",
       "<style scoped>\n",
       "    .dataframe tbody tr th:only-of-type {\n",
       "        vertical-align: middle;\n",
       "    }\n",
       "\n",
       "    .dataframe tbody tr th {\n",
       "        vertical-align: top;\n",
       "    }\n",
       "\n",
       "    .dataframe thead th {\n",
       "        text-align: right;\n",
       "    }\n",
       "</style>\n",
       "<table border=\"1\" class=\"dataframe\">\n",
       "  <thead>\n",
       "    <tr style=\"text-align: right;\">\n",
       "      <th></th>\n",
       "      <th>Product Name</th>\n",
       "      <th>Current Price</th>\n",
       "      <th>Old Price</th>\n",
       "      <th>Discount</th>\n",
       "      <th>Rating</th>\n",
       "      <th>URL</th>\n",
       "      <th>Photo</th>\n",
       "      <th>Vendor</th>\n",
       "    </tr>\n",
       "  </thead>\n",
       "  <tbody>\n",
       "    <tr>\n",
       "      <th>0</th>\n",
       "      <td>HP Laptop 15s-fq5268nia 7c7p4ea ...</td>\n",
       "      <td>₦753,480</td>\n",
       "      <td></td>\n",
       "      <td></td>\n",
       "      <td>No reviews yet</td>\n",
       "      <td>https://www.konga.com/product/hp-laptop-15s-fq...</td>\n",
       "      <td>https://www-konga-com-res.cloudinary.com/w_aut...</td>\n",
       "      <td>Konga Site</td>\n",
       "    </tr>\n",
       "    <tr>\n",
       "      <th>1</th>\n",
       "      <td>HP Eb650g9 I7-1255u 15 - 512GB S...</td>\n",
       "      <td>₦1,678,508</td>\n",
       "      <td></td>\n",
       "      <td></td>\n",
       "      <td>No reviews yet</td>\n",
       "      <td>https://www.konga.com/product/hp-eb650g9-i7-12...</td>\n",
       "      <td>https://www-konga-com-res.cloudinary.com/w_aut...</td>\n",
       "      <td>Konga Site</td>\n",
       "    </tr>\n",
       "    <tr>\n",
       "      <th>2</th>\n",
       "      <td>HP Spectre X360 Laptop 14-ef2017...</td>\n",
       "      <td>₦1,771,432</td>\n",
       "      <td></td>\n",
       "      <td></td>\n",
       "      <td>No reviews yet</td>\n",
       "      <td>https://www.konga.com/product/hp-spectre-x360-...</td>\n",
       "      <td>https://www-konga-com-res.cloudinary.com/w_aut...</td>\n",
       "      <td>Konga Site</td>\n",
       "    </tr>\n",
       "    <tr>\n",
       "      <th>3</th>\n",
       "      <td>HP Victus Gaming Laptop 15-fa114...</td>\n",
       "      <td>₦1,140,163</td>\n",
       "      <td>₦1,213,527</td>\n",
       "      <td>- 6%</td>\n",
       "      <td>No reviews yet</td>\n",
       "      <td>https://www.konga.com/product/hp-victus-gaming...</td>\n",
       "      <td>https://www-konga-com-res.cloudinary.com/w_aut...</td>\n",
       "      <td>Konga Site</td>\n",
       "    </tr>\n",
       "    <tr>\n",
       "      <th>4</th>\n",
       "      <td>HP Victus Gaming Laptop 15-fa115...</td>\n",
       "      <td>₦1,291,067</td>\n",
       "      <td>₦1,374,130</td>\n",
       "      <td>- 6%</td>\n",
       "      <td>No reviews yet</td>\n",
       "      <td>https://www.konga.com/product/hp-victus-gaming...</td>\n",
       "      <td></td>\n",
       "      <td>Konga Site</td>\n",
       "    </tr>\n",
       "    <tr>\n",
       "      <th>...</th>\n",
       "      <td>...</td>\n",
       "      <td>...</td>\n",
       "      <td>...</td>\n",
       "      <td>...</td>\n",
       "      <td>...</td>\n",
       "      <td>...</td>\n",
       "      <td>...</td>\n",
       "      <td>...</td>\n",
       "    </tr>\n",
       "    <tr>\n",
       "      <th>995</th>\n",
       "      <td>HP Elitebook 840 G5 - 12GB RAM -...</td>\n",
       "      <td>₦485,000</td>\n",
       "      <td>₦555,000</td>\n",
       "      <td>- 13%</td>\n",
       "      <td>No reviews yet</td>\n",
       "      <td>https://www.konga.com/product/hp-elitebook-840...</td>\n",
       "      <td></td>\n",
       "      <td>Konga Site</td>\n",
       "    </tr>\n",
       "    <tr>\n",
       "      <th>996</th>\n",
       "      <td>HP Notebook Stream 11 - Intel Ce...</td>\n",
       "      <td>₦155,000</td>\n",
       "      <td>₦170,000</td>\n",
       "      <td>- 9%</td>\n",
       "      <td>No reviews yet</td>\n",
       "      <td>https://www.konga.com/product/hp-notebook-stre...</td>\n",
       "      <td></td>\n",
       "      <td>Konga Site</td>\n",
       "    </tr>\n",
       "    <tr>\n",
       "      <th>997</th>\n",
       "      <td>HP Elitebook 840 G5 - 16GB RAM -...</td>\n",
       "      <td>₦475,000</td>\n",
       "      <td>₦535,000</td>\n",
       "      <td>- 11%</td>\n",
       "      <td>No reviews yet</td>\n",
       "      <td>https://www.konga.com/product/hp-elitebook-840...</td>\n",
       "      <td></td>\n",
       "      <td>Konga Site</td>\n",
       "    </tr>\n",
       "    <tr>\n",
       "      <th>998</th>\n",
       "      <td>HP 250 - Intel Celeron - Pentium...</td>\n",
       "      <td>₦348,000</td>\n",
       "      <td></td>\n",
       "      <td></td>\n",
       "      <td>No reviews yet</td>\n",
       "      <td>https://www.konga.com/product/hp-250-intel-cel...</td>\n",
       "      <td></td>\n",
       "      <td>Konga Site</td>\n",
       "    </tr>\n",
       "    <tr>\n",
       "      <th>999</th>\n",
       "      <td>HP Elitebook 840 G5 - Intel Core...</td>\n",
       "      <td>₦465,000</td>\n",
       "      <td>₦525,000</td>\n",
       "      <td>- 11%</td>\n",
       "      <td>No reviews yet</td>\n",
       "      <td>https://www.konga.com/product/hp-elitebook-840...</td>\n",
       "      <td></td>\n",
       "      <td>Konga Site</td>\n",
       "    </tr>\n",
       "  </tbody>\n",
       "</table>\n",
       "<p>1000 rows × 8 columns</p>\n",
       "</div>"
      ],
      "text/plain": [
       "                            Product Name Current Price   Old Price Discount  \\\n",
       "0    HP Laptop 15s-fq5268nia 7c7p4ea ...      ₦753,480                        \n",
       "1    HP Eb650g9 I7-1255u 15 - 512GB S...    ₦1,678,508                        \n",
       "2    HP Spectre X360 Laptop 14-ef2017...    ₦1,771,432                        \n",
       "3    HP Victus Gaming Laptop 15-fa114...    ₦1,140,163  ₦1,213,527     - 6%   \n",
       "4    HP Victus Gaming Laptop 15-fa115...    ₦1,291,067  ₦1,374,130     - 6%   \n",
       "..                                   ...           ...         ...      ...   \n",
       "995  HP Elitebook 840 G5 - 12GB RAM -...      ₦485,000    ₦555,000    - 13%   \n",
       "996  HP Notebook Stream 11 - Intel Ce...      ₦155,000    ₦170,000     - 9%   \n",
       "997  HP Elitebook 840 G5 - 16GB RAM -...      ₦475,000    ₦535,000    - 11%   \n",
       "998  HP 250 - Intel Celeron - Pentium...      ₦348,000                        \n",
       "999  HP Elitebook 840 G5 - Intel Core...      ₦465,000    ₦525,000    - 11%   \n",
       "\n",
       "             Rating                                                URL  \\\n",
       "0    No reviews yet  https://www.konga.com/product/hp-laptop-15s-fq...   \n",
       "1    No reviews yet  https://www.konga.com/product/hp-eb650g9-i7-12...   \n",
       "2    No reviews yet  https://www.konga.com/product/hp-spectre-x360-...   \n",
       "3    No reviews yet  https://www.konga.com/product/hp-victus-gaming...   \n",
       "4    No reviews yet  https://www.konga.com/product/hp-victus-gaming...   \n",
       "..              ...                                                ...   \n",
       "995  No reviews yet  https://www.konga.com/product/hp-elitebook-840...   \n",
       "996  No reviews yet  https://www.konga.com/product/hp-notebook-stre...   \n",
       "997  No reviews yet  https://www.konga.com/product/hp-elitebook-840...   \n",
       "998  No reviews yet  https://www.konga.com/product/hp-250-intel-cel...   \n",
       "999  No reviews yet  https://www.konga.com/product/hp-elitebook-840...   \n",
       "\n",
       "                                                 Photo      Vendor  \n",
       "0    https://www-konga-com-res.cloudinary.com/w_aut...  Konga Site  \n",
       "1    https://www-konga-com-res.cloudinary.com/w_aut...  Konga Site  \n",
       "2    https://www-konga-com-res.cloudinary.com/w_aut...  Konga Site  \n",
       "3    https://www-konga-com-res.cloudinary.com/w_aut...  Konga Site  \n",
       "4                                                       Konga Site  \n",
       "..                                                 ...         ...  \n",
       "995                                                     Konga Site  \n",
       "996                                                     Konga Site  \n",
       "997                                                     Konga Site  \n",
       "998                                                     Konga Site  \n",
       "999                                                     Konga Site  \n",
       "\n",
       "[1000 rows x 8 columns]"
      ]
     },
     "execution_count": 22,
     "metadata": {},
     "output_type": "execute_result"
    }
   ],
   "source": [
    "konga_laptop_df = pd.DataFrame.from_dict(product_data)\n",
    "konga_laptop_df"
   ]
  },
  {
   "cell_type": "markdown",
   "id": "ac1cc6ed-4ea0-4f92-a4ec-08d7ba5c1733",
   "metadata": {},
   "source": [
    "## Save in CSV"
   ]
  },
  {
   "cell_type": "code",
   "execution_count": 25,
   "id": "9d50c22c-6dc3-4e6a-9f04-1999877b3bf1",
   "metadata": {},
   "outputs": [],
   "source": [
    "konga_laptop_df.to_csv(\"konga_laptop.csv\", index=False)"
   ]
  },
  {
   "cell_type": "markdown",
   "id": "cf059b40-ba6c-4227-bea3-973ae66cf78f",
   "metadata": {},
   "source": [
    "## Performing a Data Cleaning on Konga Data"
   ]
  },
  {
   "cell_type": "code",
   "execution_count": 28,
   "id": "ecccfe10-02c6-40c1-80e6-5dfca3918f08",
   "metadata": {},
   "outputs": [
    {
     "data": {
      "text/html": [
       "<div>\n",
       "<style scoped>\n",
       "    .dataframe tbody tr th:only-of-type {\n",
       "        vertical-align: middle;\n",
       "    }\n",
       "\n",
       "    .dataframe tbody tr th {\n",
       "        vertical-align: top;\n",
       "    }\n",
       "\n",
       "    .dataframe thead th {\n",
       "        text-align: right;\n",
       "    }\n",
       "</style>\n",
       "<table border=\"1\" class=\"dataframe\">\n",
       "  <thead>\n",
       "    <tr style=\"text-align: right;\">\n",
       "      <th></th>\n",
       "      <th>Product Name</th>\n",
       "      <th>Current Price</th>\n",
       "      <th>Old Price</th>\n",
       "      <th>Discount</th>\n",
       "      <th>Rating</th>\n",
       "      <th>URL</th>\n",
       "      <th>Photo</th>\n",
       "      <th>Vendor</th>\n",
       "    </tr>\n",
       "  </thead>\n",
       "  <tbody>\n",
       "    <tr>\n",
       "      <th>0</th>\n",
       "      <td>HP Laptop 15s-fq5268nia 7c7p4ea ...</td>\n",
       "      <td>₦753,480</td>\n",
       "      <td>NaN</td>\n",
       "      <td>NaN</td>\n",
       "      <td>No reviews yet</td>\n",
       "      <td>https://www.konga.com/product/hp-laptop-15s-fq...</td>\n",
       "      <td>https://www-konga-com-res.cloudinary.com/w_aut...</td>\n",
       "      <td>Konga Site</td>\n",
       "    </tr>\n",
       "    <tr>\n",
       "      <th>1</th>\n",
       "      <td>HP Eb650g9 I7-1255u 15 - 512GB S...</td>\n",
       "      <td>₦1,678,508</td>\n",
       "      <td>NaN</td>\n",
       "      <td>NaN</td>\n",
       "      <td>No reviews yet</td>\n",
       "      <td>https://www.konga.com/product/hp-eb650g9-i7-12...</td>\n",
       "      <td>https://www-konga-com-res.cloudinary.com/w_aut...</td>\n",
       "      <td>Konga Site</td>\n",
       "    </tr>\n",
       "    <tr>\n",
       "      <th>2</th>\n",
       "      <td>HP Spectre X360 Laptop 14-ef2017...</td>\n",
       "      <td>₦1,771,432</td>\n",
       "      <td>NaN</td>\n",
       "      <td>NaN</td>\n",
       "      <td>No reviews yet</td>\n",
       "      <td>https://www.konga.com/product/hp-spectre-x360-...</td>\n",
       "      <td>https://www-konga-com-res.cloudinary.com/w_aut...</td>\n",
       "      <td>Konga Site</td>\n",
       "    </tr>\n",
       "    <tr>\n",
       "      <th>3</th>\n",
       "      <td>HP Victus Gaming Laptop 15-fa114...</td>\n",
       "      <td>₦1,140,163</td>\n",
       "      <td>₦1,213,527</td>\n",
       "      <td>- 6%</td>\n",
       "      <td>No reviews yet</td>\n",
       "      <td>https://www.konga.com/product/hp-victus-gaming...</td>\n",
       "      <td>https://www-konga-com-res.cloudinary.com/w_aut...</td>\n",
       "      <td>Konga Site</td>\n",
       "    </tr>\n",
       "    <tr>\n",
       "      <th>4</th>\n",
       "      <td>HP Victus Gaming Laptop 15-fa115...</td>\n",
       "      <td>₦1,291,067</td>\n",
       "      <td>₦1,374,130</td>\n",
       "      <td>- 6%</td>\n",
       "      <td>No reviews yet</td>\n",
       "      <td>https://www.konga.com/product/hp-victus-gaming...</td>\n",
       "      <td>NaN</td>\n",
       "      <td>Konga Site</td>\n",
       "    </tr>\n",
       "    <tr>\n",
       "      <th>...</th>\n",
       "      <td>...</td>\n",
       "      <td>...</td>\n",
       "      <td>...</td>\n",
       "      <td>...</td>\n",
       "      <td>...</td>\n",
       "      <td>...</td>\n",
       "      <td>...</td>\n",
       "      <td>...</td>\n",
       "    </tr>\n",
       "    <tr>\n",
       "      <th>995</th>\n",
       "      <td>HP Elitebook 840 G5 - 12GB RAM -...</td>\n",
       "      <td>₦485,000</td>\n",
       "      <td>₦555,000</td>\n",
       "      <td>- 13%</td>\n",
       "      <td>No reviews yet</td>\n",
       "      <td>https://www.konga.com/product/hp-elitebook-840...</td>\n",
       "      <td>NaN</td>\n",
       "      <td>Konga Site</td>\n",
       "    </tr>\n",
       "    <tr>\n",
       "      <th>996</th>\n",
       "      <td>HP Notebook Stream 11 - Intel Ce...</td>\n",
       "      <td>₦155,000</td>\n",
       "      <td>₦170,000</td>\n",
       "      <td>- 9%</td>\n",
       "      <td>No reviews yet</td>\n",
       "      <td>https://www.konga.com/product/hp-notebook-stre...</td>\n",
       "      <td>NaN</td>\n",
       "      <td>Konga Site</td>\n",
       "    </tr>\n",
       "    <tr>\n",
       "      <th>997</th>\n",
       "      <td>HP Elitebook 840 G5 - 16GB RAM -...</td>\n",
       "      <td>₦475,000</td>\n",
       "      <td>₦535,000</td>\n",
       "      <td>- 11%</td>\n",
       "      <td>No reviews yet</td>\n",
       "      <td>https://www.konga.com/product/hp-elitebook-840...</td>\n",
       "      <td>NaN</td>\n",
       "      <td>Konga Site</td>\n",
       "    </tr>\n",
       "    <tr>\n",
       "      <th>998</th>\n",
       "      <td>HP 250 - Intel Celeron - Pentium...</td>\n",
       "      <td>₦348,000</td>\n",
       "      <td>NaN</td>\n",
       "      <td>NaN</td>\n",
       "      <td>No reviews yet</td>\n",
       "      <td>https://www.konga.com/product/hp-250-intel-cel...</td>\n",
       "      <td>NaN</td>\n",
       "      <td>Konga Site</td>\n",
       "    </tr>\n",
       "    <tr>\n",
       "      <th>999</th>\n",
       "      <td>HP Elitebook 840 G5 - Intel Core...</td>\n",
       "      <td>₦465,000</td>\n",
       "      <td>₦525,000</td>\n",
       "      <td>- 11%</td>\n",
       "      <td>No reviews yet</td>\n",
       "      <td>https://www.konga.com/product/hp-elitebook-840...</td>\n",
       "      <td>NaN</td>\n",
       "      <td>Konga Site</td>\n",
       "    </tr>\n",
       "  </tbody>\n",
       "</table>\n",
       "<p>1000 rows × 8 columns</p>\n",
       "</div>"
      ],
      "text/plain": [
       "                            Product Name Current Price   Old Price Discount  \\\n",
       "0    HP Laptop 15s-fq5268nia 7c7p4ea ...      ₦753,480         NaN      NaN   \n",
       "1    HP Eb650g9 I7-1255u 15 - 512GB S...    ₦1,678,508         NaN      NaN   \n",
       "2    HP Spectre X360 Laptop 14-ef2017...    ₦1,771,432         NaN      NaN   \n",
       "3    HP Victus Gaming Laptop 15-fa114...    ₦1,140,163  ₦1,213,527     - 6%   \n",
       "4    HP Victus Gaming Laptop 15-fa115...    ₦1,291,067  ₦1,374,130     - 6%   \n",
       "..                                   ...           ...         ...      ...   \n",
       "995  HP Elitebook 840 G5 - 12GB RAM -...      ₦485,000    ₦555,000    - 13%   \n",
       "996  HP Notebook Stream 11 - Intel Ce...      ₦155,000    ₦170,000     - 9%   \n",
       "997  HP Elitebook 840 G5 - 16GB RAM -...      ₦475,000    ₦535,000    - 11%   \n",
       "998  HP 250 - Intel Celeron - Pentium...      ₦348,000         NaN      NaN   \n",
       "999  HP Elitebook 840 G5 - Intel Core...      ₦465,000    ₦525,000    - 11%   \n",
       "\n",
       "             Rating                                                URL  \\\n",
       "0    No reviews yet  https://www.konga.com/product/hp-laptop-15s-fq...   \n",
       "1    No reviews yet  https://www.konga.com/product/hp-eb650g9-i7-12...   \n",
       "2    No reviews yet  https://www.konga.com/product/hp-spectre-x360-...   \n",
       "3    No reviews yet  https://www.konga.com/product/hp-victus-gaming...   \n",
       "4    No reviews yet  https://www.konga.com/product/hp-victus-gaming...   \n",
       "..              ...                                                ...   \n",
       "995  No reviews yet  https://www.konga.com/product/hp-elitebook-840...   \n",
       "996  No reviews yet  https://www.konga.com/product/hp-notebook-stre...   \n",
       "997  No reviews yet  https://www.konga.com/product/hp-elitebook-840...   \n",
       "998  No reviews yet  https://www.konga.com/product/hp-250-intel-cel...   \n",
       "999  No reviews yet  https://www.konga.com/product/hp-elitebook-840...   \n",
       "\n",
       "                                                 Photo      Vendor  \n",
       "0    https://www-konga-com-res.cloudinary.com/w_aut...  Konga Site  \n",
       "1    https://www-konga-com-res.cloudinary.com/w_aut...  Konga Site  \n",
       "2    https://www-konga-com-res.cloudinary.com/w_aut...  Konga Site  \n",
       "3    https://www-konga-com-res.cloudinary.com/w_aut...  Konga Site  \n",
       "4                                                  NaN  Konga Site  \n",
       "..                                                 ...         ...  \n",
       "995                                                NaN  Konga Site  \n",
       "996                                                NaN  Konga Site  \n",
       "997                                                NaN  Konga Site  \n",
       "998                                                NaN  Konga Site  \n",
       "999                                                NaN  Konga Site  \n",
       "\n",
       "[1000 rows x 8 columns]"
      ]
     },
     "execution_count": 28,
     "metadata": {},
     "output_type": "execute_result"
    }
   ],
   "source": [
    "konga_df = pd.read_csv(\"konga_laptop.csv\")\n",
    "konga_df"
   ]
  },
  {
   "cell_type": "markdown",
   "id": "0f8ed752-7e8b-40b6-8211-8117083f081a",
   "metadata": {},
   "source": [
    "## Inspecting the Data"
   ]
  },
  {
   "cell_type": "code",
   "execution_count": 31,
   "id": "cae16385-483b-48db-a869-b400f311472e",
   "metadata": {},
   "outputs": [
    {
     "data": {
      "text/plain": [
       "(1000, 8)"
      ]
     },
     "execution_count": 31,
     "metadata": {},
     "output_type": "execute_result"
    }
   ],
   "source": [
    "konga_df.shape"
   ]
  },
  {
   "cell_type": "code",
   "execution_count": 33,
   "id": "c171c5d6-dd62-4ab3-ab97-2a6af9ab7cd1",
   "metadata": {},
   "outputs": [
    {
     "name": "stdout",
     "output_type": "stream",
     "text": [
      "<class 'pandas.core.frame.DataFrame'>\n",
      "RangeIndex: 1000 entries, 0 to 999\n",
      "Data columns (total 8 columns):\n",
      " #   Column         Non-Null Count  Dtype \n",
      "---  ------         --------------  ----- \n",
      " 0   Product Name   1000 non-null   object\n",
      " 1   Current Price  1000 non-null   object\n",
      " 2   Old Price      318 non-null    object\n",
      " 3   Discount       314 non-null    object\n",
      " 4   Rating         1000 non-null   object\n",
      " 5   URL            1000 non-null   object\n",
      " 6   Photo          740 non-null    object\n",
      " 7   Vendor         1000 non-null   object\n",
      "dtypes: object(8)\n",
      "memory usage: 62.6+ KB\n"
     ]
    }
   ],
   "source": [
    "konga_df.info()"
   ]
  },
  {
   "cell_type": "code",
   "execution_count": 35,
   "id": "ab0e82b5-d9fe-4cb6-b53d-7af862696096",
   "metadata": {},
   "outputs": [
    {
     "data": {
      "text/plain": [
       "array(['₦753,480', '₦1,678,508', '₦1,771,432', '₦1,140,163', '₦1,291,067',\n",
       "       '₦1,075,582', '₦1,225,347', '₦1,753,662', '₦1,037,918',\n",
       "       '₦1,369,372', '₦1,378,095', '₦1,497,645', '₦806,260', '₦1,418,412',\n",
       "       '₦692,068', '₦586,768', '₦834,964', '₦832,100', '₦864,100',\n",
       "       '₦973,200', '₦1,348,300', '₦1,081,400', '₦1,487,700', '₦263,500',\n",
       "       '₦660,000', '₦1,020,000', '₦850,000', '₦776,056', '₦1,806,896',\n",
       "       '₦571,067', '₦786,240', '₦1,171,570', '₦1,190,465', '₦1,640,490',\n",
       "       '₦801,750', '₦2,001,408', '₦1,307,023', '₦796,483', '₦1,358,136',\n",
       "       '₦1,048,352', '₦796,475', '₦2,450,847', '₦744,888', '₦1,114,450',\n",
       "       '₦1,082,389', '₦988,330', '₦1,014,314', '₦852,748', '₦1,669,370',\n",
       "       '₦1,729,100', '₦1,272,998', '₦2,975,365', '₦1,295,081', '₦612,673',\n",
       "       '₦1,089,204', '₦428,871', '₦1,089,196', '₦680,748', '₦1,034,738',\n",
       "       '₦524,176', '₦984,516', '₦980,277', '₦2,212,098', '₦1,425,405',\n",
       "       '₦989,093', '₦1,453,296', '₦1,174,189', '₦1,349,816', '₦929,802',\n",
       "       '₦918,179', '₦3,030,206', '₦656,623', '₦938,925', '₦2,999,000',\n",
       "       '₦1,339,500', '₦350,000', '₦180,000', '₦190,000', '₦485,000',\n",
       "       '₦135,000', '₦149,500', '₦125,000', '₦440,000', '₦455,000',\n",
       "       '₦465,000', '₦670,000', '₦155,000', '₦330,000', '₦150,000',\n",
       "       '₦210,000', '₦165,000', '₦145,000', '₦220,000', '₦515,000',\n",
       "       '₦550,000', '₦535,000', '₦520,000', '₦500,000', '₦740,000',\n",
       "       '₦475,000', '₦160,000', '₦3,900,000', '₦290,000', '₦280,000',\n",
       "       '₦310,000', '₦170,000', '₦189,999', '₦495,000', '₦260,000',\n",
       "       '₦445,000', '₦510,000', '₦900,000', '₦750,000', '₦730,000',\n",
       "       '₦380,000', '₦250,000', '₦390,000', '₦650,000', '₦990,000',\n",
       "       '₦460,000', '₦855,000', '₦995,000', '₦790,000', '₦1,150,000',\n",
       "       '₦835,000', '₦840,000', '₦800,000', '₦2,300,000', '₦315,000',\n",
       "       '₦1,110,000', '₦970,000', '₦450,000', '₦980,000', '₦780,000',\n",
       "       '₦697,000', '₦600,000', '₦1,200,000', '₦230,000', '₦270,000',\n",
       "       '₦2,995,000', '₦902,000', '₦801,000', '₦695,000', '₦802,000',\n",
       "       '₦3,050,000', '₦1,100,000', '₦1,380,805', '₦1,634,497',\n",
       "       '₦2,229,664', '₦1,800,604', '₦200,000', '₦1,950,000', '₦1,850,000',\n",
       "       '₦295,000', '₦195,000', '₦215,000', '₦130,000', '₦340,000',\n",
       "       '₦3,000,000', '₦2,100,000', '₦567,000', '₦1,470,000', '₦879,500',\n",
       "       '₦3,700,000', '₦3,300,000', '₦580,000', '₦758,000', '₦940,000',\n",
       "       '₦572,000', '₦470,000', '₦570,000', '₦1,255,000', '₦1,249,000',\n",
       "       '₦240,000', '₦2,200,000', '₦1,252,000', '₦4,330,000', '₦4,500,000',\n",
       "       '₦530,000', '₦1,780,000', '₦1,320,000', '₦1,350,000', '₦3,150,000',\n",
       "       '₦2,250,000', '₦2,550,000', '₦1,900,000', '₦749,000', '₦1,990,000',\n",
       "       '₦701,000', '₦751,000', '₦750,500', '₦411,000', '₦435,000',\n",
       "       '₦3,100,000', '₦992,000', '₦550,500', '₦2,225,200', '₦547,000',\n",
       "       '₦1,210,000', '₦994,500', '₦980,800', '₦980,500', '₦1,250,000',\n",
       "       '₦920,000', '₦700,000', '₦702,000', '₦551,000', '₦975,000',\n",
       "       '₦552,000', '₦699,900', '₦974,000', '₦484,500', '₦590,000',\n",
       "       '₦1,500,000', '₦560,000', '₦1,160,000', '₦420,000', '₦950,000',\n",
       "       '₦175,000', '₦2,150,000', '₦2,151,000', '₦1,658,000', '₦2,350,000',\n",
       "       '₦1,164,790', '₦405,000', '₦578,800', '₦600,500', '₦518,000',\n",
       "       '₦725,900', '₦768,900', '₦499,000', '₦411,950', '₦839,740',\n",
       "       '₦978,943', '₦228,124', '₦867,570', '₦4,900,000', '₦605,000',\n",
       "       '₦607,000', '₦621,500', '₦952,000', '₦603,000', '₦606,000',\n",
       "       '₦622,000', '₦955,000', '₦627,000', '₦949,500', '₦400,000',\n",
       "       '₦422,000', '₦410,000', '₦748,000', '₦540,000', '₦415,000',\n",
       "       '₦1,550,000', '₦2,500,000', '₦2,400,000', '₦1,000,000', '₦245,000',\n",
       "       '₦3,800,000', '₦3,500,000', '₦1,380,000', '₦838,000', '₦848,000',\n",
       "       '₦880,000', '₦680,000', '₦495,400', '₦485,500', '₦479,000',\n",
       "       '₦469,000', '₦549,000', '₦498,500', '₦480,000', '₦540,500',\n",
       "       '₦488,000', '₦545,500', '₦588,000', '₦235,000', '₦140,000',\n",
       "       '₦1,319,500', '₦1,300,000', '₦487,500', '₦698,000', '₦685,000',\n",
       "       '₦678,000', '₦895,000', '₦1,461,500', '₦795,000', '₦304,900',\n",
       "       '₦298,800', '₦297,800', '₦1,390,000', '₦780,500', '₦3,654,400',\n",
       "       '₦4,531,400', '₦3,817,349', '₦599,000', '₦755,000', '₦830,000',\n",
       "       '₦850,500', '₦579,000', '₦699,999', '₦1,495,000', '₦122,000',\n",
       "       '₦120,000', '₦335,000', '₦275,000', '₦329,999', '₦185,000',\n",
       "       '₦600,400', '₦605,500', '₦599,500', '₦309,000', '₦311,000',\n",
       "       '₦620,000', '₦620,500', '₦621,000', '₦1,275,000', '₦1,272,000',\n",
       "       '₦1,010,500', '₦1,270,000', '₦299,999', '₦239,999', '₦199,999',\n",
       "       '₦1,015,000', '₦609,000', '₦610,500', '₦615,500', '₦965,000',\n",
       "       '₦430,000', '₦490,000', '₦355,000', '₦6,999', '₦615,000',\n",
       "       '₦348,000'], dtype=object)"
      ]
     },
     "execution_count": 35,
     "metadata": {},
     "output_type": "execute_result"
    }
   ],
   "source": [
    "konga_df[\"Current Price\"].unique()"
   ]
  },
  {
   "cell_type": "code",
   "execution_count": 36,
   "id": "3c8d07b4-3aaa-4d8c-ab92-9448ec3c0452",
   "metadata": {},
   "outputs": [],
   "source": [
    "# Current price\n",
    "konga_df['Current Price'] = konga_df['Current Price'].str.replace(\"₦\",\"\")\n",
    "konga_df['Current Price'] = konga_df['Current Price'].str.replace(\",\",\"\")\n",
    "konga_df['Current Price'].fillna(value=0, inplace=True)"
   ]
  },
  {
   "cell_type": "code",
   "execution_count": 39,
   "id": "a79c212a-bf8b-41dc-9bdf-e3ba73339a98",
   "metadata": {},
   "outputs": [],
   "source": [
    "# change datatype\n",
    "konga_df['Current Price'] = konga_df['Current Price'].astype(\"float64\")"
   ]
  },
  {
   "cell_type": "code",
   "execution_count": 41,
   "id": "3b09ef99-ede2-4788-a72d-a837dbaa2d28",
   "metadata": {},
   "outputs": [
    {
     "data": {
      "text/plain": [
       "array([nan, '₦1,213,527', '₦1,374,130', '₦924,600', '₦960,200',\n",
       "       '₦1,081,400', '₦1,348,300', '₦1,487,700', '₦292,800', '₦825,000',\n",
       "       '₦1,133,400', '₦944,500', '₦1,267,054', '₦1,445,512', '₦3,000,000',\n",
       "       '₦1,339,500', '₦356,250', '₦240,000', '₦150,000', '₦525,000',\n",
       "       '₦155,000', '₦190,000', '₦350,000', '₦170,000', '₦750,000',\n",
       "       '₦700,000', '₦1,000,000', '₦800,000', '₦900,000', '₦380,000',\n",
       "       '₦600,000', '₦260,000', '₦400,000', '₦270,000', '₦300,000',\n",
       "       '₦200,000', '₦280,000', '₦500,000', '₦1,265,000', '₦3,200,000',\n",
       "       '₦2,300,000', '₦4,000,000', '₦798,000', '₦2,500,000', '₦4,700,000',\n",
       "       '₦1,980,000', '₦2,230,000', '₦480,000', '₦535,000', '₦555,000',\n",
       "       '₦490,000', '₦510,000', '₦762,000', '₦990,000', '₦1,795,000',\n",
       "       '₦331,000', '₦5,200,000', '₦1,168,000', '₦1,500,000', '₦470,000',\n",
       "       '₦450,000', '₦2,670,000', '₦2,000,000', '₦1,200,000', '₦868,000',\n",
       "       '₦878,000', '₦640,000', '₦295,000', '₦1,030,000', '₦230,000',\n",
       "       '₦267,000', '₦650,000', '₦725,000', '₦710,000', '₦698,000',\n",
       "       '₦935,000', '₦565,000', '₦685,000', '₦545,000', '₦495,000',\n",
       "       '₦1,890,000', '₦585,000', '₦515,000', '₦475,000', '₦530,000',\n",
       "       '₦540,000', '₦489,000', '₦595,000', '₦695,000', '₦485,000',\n",
       "       '₦445,000', '₦245,000', '₦255,000', '₦575,000', '₦550,000',\n",
       "       '₦560,000', '₦465,000', '₦675,000', '₦330,000', '₦605,000'],\n",
       "      dtype=object)"
      ]
     },
     "execution_count": 41,
     "metadata": {},
     "output_type": "execute_result"
    }
   ],
   "source": [
    "konga_df[\"Old Price\"].unique()"
   ]
  },
  {
   "cell_type": "code",
   "execution_count": 43,
   "id": "c91fef0c-fd84-4bc1-b175-5d23a464dda3",
   "metadata": {},
   "outputs": [],
   "source": [
    "# Current price\n",
    "konga_df['Old Price'] = konga_df['Old Price'].str.replace(\"₦\",\"\")\n",
    "konga_df['Old Price'] = konga_df['Old Price'].str.replace(\",\",\"\")\n",
    "konga_df['Old Price'].fillna(value=0, inplace=True)"
   ]
  },
  {
   "cell_type": "code",
   "execution_count": 45,
   "id": "88e912bd-c316-4ace-8515-9f2636dba0f4",
   "metadata": {},
   "outputs": [],
   "source": [
    "# change datatype\n",
    "konga_df['Old Price'] = konga_df['Old Price'].astype(\"float64\")"
   ]
  },
  {
   "cell_type": "code",
   "execution_count": 47,
   "id": "a59018e6-1d13-444b-a56c-f1f295321650",
   "metadata": {},
   "outputs": [],
   "source": [
    "# discount\n",
    "konga_df['Discount'] = konga_df['Discount'].str.replace(\"- \",\"\")\n",
    "konga_df['Discount'] = konga_df['Discount'].str.replace(\"%\",\"\")\n",
    "\n",
    "# let fill missing value in discount\n",
    "konga_df[\"Discount\"].fillna(value=0, inplace=True)\n",
    "\n",
    "# now let change the datatype\n",
    "konga_df['Discount'] = konga_df['Discount'].astype(\"int\")\n",
    "\n",
    "# converting to percent\n",
    "konga_df[\"Discount\"] = konga_df[\"Discount\"] / 100"
   ]
  },
  {
   "cell_type": "code",
   "execution_count": 49,
   "id": "1ae872b0-ba7d-4e71-a4fb-41a505f11968",
   "metadata": {},
   "outputs": [
    {
     "data": {
      "text/plain": [
       "array(['No reviews yet', '1 Review', '4 Reviews'], dtype=object)"
      ]
     },
     "execution_count": 49,
     "metadata": {},
     "output_type": "execute_result"
    }
   ],
   "source": [
    "# Rating\n",
    "konga_df[\"Rating\"].unique()"
   ]
  },
  {
   "cell_type": "code",
   "execution_count": 51,
   "id": "f7b0860b-b5c1-4dae-8800-d044b1f90bf2",
   "metadata": {},
   "outputs": [],
   "source": [
    "# rating category\n",
    "rating_cat = {\n",
    "    'No reviews yet': 0,\n",
    "    '1 Review': 1,\n",
    "    '2 Reviews': 2,\n",
    "    '3 Reviews': 3,\n",
    "    '4 Reviews': 4,\n",
    "    '5 Reviews': 5,\n",
    "    \n",
    "}\n",
    "\n",
    "# Remap the values of the dataframe\n",
    "konga_df[\"Rating\"] = konga_df[\"Rating\"].map(rating_cat)"
   ]
  },
  {
   "cell_type": "code",
   "execution_count": 53,
   "id": "16fd6ea2-b259-4b40-8d99-fd20968f54b4",
   "metadata": {},
   "outputs": [
    {
     "data": {
      "text/plain": [
       "array([0, 1, 4])"
      ]
     },
     "execution_count": 53,
     "metadata": {},
     "output_type": "execute_result"
    }
   ],
   "source": [
    "konga_df[\"Rating\"].unique()"
   ]
  },
  {
   "cell_type": "code",
   "execution_count": 55,
   "id": "b0a2ed9e-3180-4001-b342-c5b314c7dbb3",
   "metadata": {},
   "outputs": [],
   "source": [
    "# remove whitespace\n",
    "konga_df[\"Product Name\"] = konga_df['Product Name'].str.strip()\n",
    "konga_df[\"URL\"] = konga_df['URL'].str.strip()\n",
    "konga_df[\"Photo\"] = konga_df['Photo'].str.strip()"
   ]
  },
  {
   "cell_type": "code",
   "execution_count": 57,
   "id": "d48e3bb5-3ce3-45c1-812f-e70428833f35",
   "metadata": {},
   "outputs": [
    {
     "data": {
      "text/plain": [
       "0"
      ]
     },
     "execution_count": 57,
     "metadata": {},
     "output_type": "execute_result"
    }
   ],
   "source": [
    "# check for duplicates\n",
    "konga_df.duplicated().sum()"
   ]
  },
  {
   "cell_type": "code",
   "execution_count": 59,
   "id": "ddbcfe8c-2e0c-48b0-adea-80e3c4f07655",
   "metadata": {},
   "outputs": [
    {
     "name": "stdout",
     "output_type": "stream",
     "text": [
      "<class 'pandas.core.frame.DataFrame'>\n",
      "RangeIndex: 1000 entries, 0 to 999\n",
      "Data columns (total 8 columns):\n",
      " #   Column         Non-Null Count  Dtype  \n",
      "---  ------         --------------  -----  \n",
      " 0   Product Name   1000 non-null   object \n",
      " 1   Current Price  1000 non-null   float64\n",
      " 2   Old Price      1000 non-null   float64\n",
      " 3   Discount       1000 non-null   float64\n",
      " 4   Rating         1000 non-null   int64  \n",
      " 5   URL            1000 non-null   object \n",
      " 6   Photo          740 non-null    object \n",
      " 7   Vendor         1000 non-null   object \n",
      "dtypes: float64(3), int64(1), object(4)\n",
      "memory usage: 62.6+ KB\n"
     ]
    }
   ],
   "source": [
    "konga_df.info()"
   ]
  },
  {
   "cell_type": "markdown",
   "id": "1db7eded-b2ad-4b90-a46c-fc28767766d5",
   "metadata": {},
   "source": [
    "## Save Clean data to CSV"
   ]
  },
  {
   "cell_type": "code",
   "execution_count": 62,
   "id": "ff1f82dd-154d-4f98-9b74-eccc19cc34d1",
   "metadata": {},
   "outputs": [],
   "source": [
    "konga_df.to_csv(\"konga_clean_laptop.csv\", index=False)"
   ]
  },
  {
   "cell_type": "code",
   "execution_count": null,
   "id": "51945a33-6f80-46c6-befc-e906afd9ae71",
   "metadata": {},
   "outputs": [],
   "source": []
  }
 ],
 "metadata": {
  "kernelspec": {
   "display_name": "Python 3 (ipykernel)",
   "language": "python",
   "name": "python3"
  },
  "language_info": {
   "codemirror_mode": {
    "name": "ipython",
    "version": 3
   },
   "file_extension": ".py",
   "mimetype": "text/x-python",
   "name": "python",
   "nbconvert_exporter": "python",
   "pygments_lexer": "ipython3",
   "version": "3.11.7"
  }
 },
 "nbformat": 4,
 "nbformat_minor": 5
}
